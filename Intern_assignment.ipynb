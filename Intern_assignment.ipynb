{
 "cells": [
  {
   "cell_type": "markdown",
   "metadata": {},
   "source": [
    "# Classifying Wine Variety \n",
    "Using Price, Rating Points and other Text Columns"
   ]
  },
  {
   "cell_type": "code",
   "execution_count": 376,
   "metadata": {},
   "outputs": [],
   "source": [
    "#importing Libraries\n",
    "import pandas as pd\n",
    "from scipy import sparse\n",
    "import numpy as np\n",
    "import seaborn as sns\n",
    "     \n",
    "from sklearn.feature_extraction.text import CountVectorizer\n",
    "from sklearn.feature_extraction.text import TfidfVectorizer    \n",
    "from nltk.tokenize import RegexpTokenizer\n",
    "import numpy as np\n",
    "from sklearn import preprocessing\n",
    "from scipy.sparse import hstack"
   ]
  },
  {
   "cell_type": "code",
   "execution_count": 377,
   "metadata": {},
   "outputs": [],
   "source": [
    "# Reading Data Set\n",
    "data = pd.read_csv(\"train.csv\")"
   ]
  },
  {
   "cell_type": "markdown",
   "metadata": {},
   "source": [
    "## Descriptive Statistics"
   ]
  },
  {
   "cell_type": "code",
   "execution_count": 378,
   "metadata": {},
   "outputs": [
    {
     "name": "stdout",
     "output_type": "stream",
     "text": [
      "<class 'pandas.core.frame.DataFrame'>\n",
      "RangeIndex: 82657 entries, 0 to 82656\n",
      "Data columns (total 12 columns):\n",
      "user_name             63264 non-null object\n",
      "country               82622 non-null object\n",
      "review_title          82657 non-null object\n",
      "review_description    82657 non-null object\n",
      "designation           59010 non-null object\n",
      "points                82657 non-null int64\n",
      "price                 77088 non-null float64\n",
      "province              82622 non-null object\n",
      "region_1              69903 non-null object\n",
      "region_2              35949 non-null object\n",
      "winery                82657 non-null object\n",
      "variety               82657 non-null object\n",
      "dtypes: float64(1), int64(1), object(10)\n",
      "memory usage: 7.6+ MB\n"
     ]
    }
   ],
   "source": [
    "data.info()"
   ]
  },
  {
   "cell_type": "code",
   "execution_count": 379,
   "metadata": {},
   "outputs": [
    {
     "data": {
      "text/html": [
       "<div>\n",
       "<style scoped>\n",
       "    .dataframe tbody tr th:only-of-type {\n",
       "        vertical-align: middle;\n",
       "    }\n",
       "\n",
       "    .dataframe tbody tr th {\n",
       "        vertical-align: top;\n",
       "    }\n",
       "\n",
       "    .dataframe thead th {\n",
       "        text-align: right;\n",
       "    }\n",
       "</style>\n",
       "<table border=\"1\" class=\"dataframe\">\n",
       "  <thead>\n",
       "    <tr style=\"text-align: right;\">\n",
       "      <th></th>\n",
       "      <th>points</th>\n",
       "      <th>price</th>\n",
       "    </tr>\n",
       "  </thead>\n",
       "  <tbody>\n",
       "    <tr>\n",
       "      <th>count</th>\n",
       "      <td>82657.000000</td>\n",
       "      <td>77088.000000</td>\n",
       "    </tr>\n",
       "    <tr>\n",
       "      <th>mean</th>\n",
       "      <td>88.544564</td>\n",
       "      <td>36.922232</td>\n",
       "    </tr>\n",
       "    <tr>\n",
       "      <th>std</th>\n",
       "      <td>3.099649</td>\n",
       "      <td>43.698346</td>\n",
       "    </tr>\n",
       "    <tr>\n",
       "      <th>min</th>\n",
       "      <td>80.000000</td>\n",
       "      <td>4.000000</td>\n",
       "    </tr>\n",
       "    <tr>\n",
       "      <th>25%</th>\n",
       "      <td>86.000000</td>\n",
       "      <td>18.000000</td>\n",
       "    </tr>\n",
       "    <tr>\n",
       "      <th>50%</th>\n",
       "      <td>88.000000</td>\n",
       "      <td>27.000000</td>\n",
       "    </tr>\n",
       "    <tr>\n",
       "      <th>75%</th>\n",
       "      <td>91.000000</td>\n",
       "      <td>45.000000</td>\n",
       "    </tr>\n",
       "    <tr>\n",
       "      <th>max</th>\n",
       "      <td>100.000000</td>\n",
       "      <td>3300.000000</td>\n",
       "    </tr>\n",
       "  </tbody>\n",
       "</table>\n",
       "</div>"
      ],
      "text/plain": [
       "             points         price\n",
       "count  82657.000000  77088.000000\n",
       "mean      88.544564     36.922232\n",
       "std        3.099649     43.698346\n",
       "min       80.000000      4.000000\n",
       "25%       86.000000     18.000000\n",
       "50%       88.000000     27.000000\n",
       "75%       91.000000     45.000000\n",
       "max      100.000000   3300.000000"
      ]
     },
     "execution_count": 379,
     "metadata": {},
     "output_type": "execute_result"
    }
   ],
   "source": [
    "# 5 n0. Summary of prices and points column\n",
    "data.describe()"
   ]
  },
  {
   "cell_type": "markdown",
   "metadata": {},
   "source": [
    "* Average Price of 1 bottle of wine is 36$\n",
    "* Average Score points given to all wine variety is 88.5"
   ]
  },
  {
   "cell_type": "code",
   "execution_count": 380,
   "metadata": {},
   "outputs": [],
   "source": [
    "# Average Price Based on Each Variety\n",
    "ast = data.groupby('variety')[[\"price\"]].mean().reset_index()\n",
    "ast = ast.sort_values(['price'], ascending=False)"
   ]
  },
  {
   "cell_type": "code",
   "execution_count": 381,
   "metadata": {},
   "outputs": [
    {
     "data": {
      "text/plain": [
       "Text(0.5, 1.0, 'Average Prices Of Diffrent varieties of Wine')"
      ]
     },
     "execution_count": 381,
     "metadata": {},
     "output_type": "execute_result"
    },
    {
     "data": {
      "image/png": "[encoded data removed]",
      "text/plain": [
       "<Figure size 1080x360 with 1 Axes>"
      ]
     },
     "metadata": {
      "needs_background": "light"
     },
     "output_type": "display_data"
    }
   ],
   "source": [
    "plt.figure(figsize=(15,5))\n",
    "ax = sns.barplot(x=\"variety\", y=\"price\", data=ast,palette='Set1')\n",
    "c=ax.get_xticklabels()\n",
    "d = ax.set_xticklabels(c, rotation=90)\n",
    "plt.title(\"Average Prices Of Diffrent varieties of Wine\")"
   ]
  },
  {
   "cell_type": "code",
   "execution_count": 382,
   "metadata": {},
   "outputs": [],
   "source": [
    "# Average Price Based on Each country\n",
    "ast = data.groupby('country')[[\"price\"]].mean().reset_index()\n",
    "ast = ast.sort_values(['price'], ascending=False)"
   ]
  },
  {
   "cell_type": "code",
   "execution_count": 383,
   "metadata": {},
   "outputs": [
    {
     "data": {
      "text/plain": [
       "Text(0.5, 1.0, 'Average Prices Of Wine based on its country')"
      ]
     },
     "execution_count": 383,
     "metadata": {},
     "output_type": "execute_result"
    },
    {
     "data": {
      "image/png": "[encoded data removed]",
      "text/plain": [
       "<Figure size 1080x360 with 1 Axes>"
      ]
     },
     "metadata": {
      "needs_background": "light"
     },
     "output_type": "display_data"
    }
   ],
   "source": [
    "plt.figure(figsize=(15,5))\n",
    "ax = sns.barplot(x=\"country\", y=\"price\", data=ast,palette='Set2')\n",
    "c=ax.get_xticklabels()\n",
    "d = ax.set_xticklabels(c, rotation=90)\n",
    "plt.title(\"Average Prices Of Wine based on its country\")"
   ]
  },
  {
   "cell_type": "code",
   "execution_count": 384,
   "metadata": {},
   "outputs": [],
   "source": [
    "# Average Price Based on Each province\n",
    "ast = data.groupby('province')[[\"price\"]].mean().reset_index()\n",
    "ast = ast.sort_values(['price'], ascending=False)"
   ]
  },
  {
   "cell_type": "code",
   "execution_count": 385,
   "metadata": {},
   "outputs": [
    {
     "data": {
      "text/plain": [
       "Text(0.5, 1.0, 'Top 10 Average Prices Of Wine based on its Province')"
      ]
     },
     "execution_count": 385,
     "metadata": {},
     "output_type": "execute_result"
    },
    {
     "data": {
      "image/png": "[encoded data removed]",
      "text/plain": [
       "<Figure size 1080x360 with 1 Axes>"
      ]
     },
     "metadata": {
      "needs_background": "light"
     },
     "output_type": "display_data"
    }
   ],
   "source": [
    "plt.figure(figsize=(15,5))\n",
    "ax = sns.barplot(x=\"province\", y=\"price\", data=ast.iloc[0:10,:],palette='Set2')\n",
    "c=ax.get_xticklabels()\n",
    "d = ax.set_xticklabels(c, rotation=90)\n",
    "plt.title(\"Top 10 Average Prices Of Wine based on its Province\")"
   ]
  },
  {
   "cell_type": "code",
   "execution_count": 386,
   "metadata": {},
   "outputs": [
    {
     "data": {
      "text/plain": [
       "array([[<matplotlib.axes._subplots.AxesSubplot object at 0x00000160A653E0B8>,\n",
       "        <matplotlib.axes._subplots.AxesSubplot object at 0x000001603F5D7780>]],\n",
       "      dtype=object)"
      ]
     },
     "execution_count": 386,
     "metadata": {},
     "output_type": "execute_result"
    },
    {
     "data": {
      "image/png": "[encoded data removed]",
      "text/plain": [
       "<Figure size 1080x360 with 2 Axes>"
      ]
     },
     "metadata": {
      "needs_background": "light"
     },
     "output_type": "display_data"
    }
   ],
   "source": [
    "#plotting distribution of Points\n",
    "plt.ffigsize=(15,5)\n",
    "data.hist(figsize=(15,5))"
   ]
  },
  {
   "cell_type": "code",
   "execution_count": 387,
   "metadata": {},
   "outputs": [
    {
     "data": {
      "image/png": "[encoded data removed]",
      "text/plain": [
       "<Figure size 432x288 with 1 Axes>"
      ]
     },
     "metadata": {
      "needs_background": "light"
     },
     "output_type": "display_data"
    }
   ],
   "source": [
    "#Scatter plot of price and points Columns\n",
    "ax = sns.regplot(x=\"price\", y=\"points\", data=data)"
   ]
  },
  {
   "cell_type": "markdown",
   "metadata": {},
   "source": [
    "* We can see a slight Increasing Trend which suggests that higher score leads to high price of the wine"
   ]
  },
  {
   "cell_type": "markdown",
   "metadata": {},
   "source": [
    "## Data Preprocessing"
   ]
  },
  {
   "cell_type": "code",
   "execution_count": 388,
   "metadata": {},
   "outputs": [],
   "source": [
    "#Reading Test Set\n",
    "data2 = pd.read_csv(\"test.csv\")\n",
    "#Adding unknown Variety in text column\n",
    "data2[\"variety\"] = \"unknown\""
   ]
  },
  {
   "cell_type": "code",
   "execution_count": 389,
   "metadata": {},
   "outputs": [],
   "source": [
    "#Joining Train And Test Data\n",
    "full = pd.concat([data,data2])\n",
    "full.reset_index(drop=True,inplace=True)"
   ]
  },
  {
   "cell_type": "code",
   "execution_count": 390,
   "metadata": {},
   "outputs": [
    {
     "data": {
      "text/plain": [
       "unknown                       20665\n",
       "Pinot Noir                    10587\n",
       "Chardonnay                     9403\n",
       "Cabernet Sauvignon             7552\n",
       "Red Blend                      7166\n",
       "Bordeaux-style Red Blend       5497\n",
       "Riesling                       4148\n",
       "Sauvignon Blanc                4011\n",
       "Syrah                          3316\n",
       "Rosé                           2831\n",
       "Merlot                         2471\n",
       "Nebbiolo                       2242\n",
       "Zinfandel                      2209\n",
       "Sangiovese                     2165\n",
       "Malbec                         2119\n",
       "Portuguese Red                 1969\n",
       "White Blend                    1896\n",
       "Sparkling Blend                1739\n",
       "Tempranillo                    1448\n",
       "Rhône-style Red Blend          1182\n",
       "Pinot Gris                     1148\n",
       "Champagne Blend                1133\n",
       "Cabernet Franc                 1095\n",
       "Grüner Veltliner               1055\n",
       "Portuguese White                896\n",
       "Pinot Grigio                    873\n",
       "Bordeaux-style White Blend      850\n",
       "Gewürztraminer                  840\n",
       "Gamay                           816\n",
       "Name: variety, dtype: int64"
      ]
     },
     "execution_count": 390,
     "metadata": {},
     "output_type": "execute_result"
    }
   ],
   "source": [
    "full.variety.value_counts()"
   ]
  },
  {
   "cell_type": "code",
   "execution_count": 391,
   "metadata": {},
   "outputs": [
    {
     "data": {
      "text/html": [
       "<div>\n",
       "<style scoped>\n",
       "    .dataframe tbody tr th:only-of-type {\n",
       "        vertical-align: middle;\n",
       "    }\n",
       "\n",
       "    .dataframe tbody tr th {\n",
       "        vertical-align: top;\n",
       "    }\n",
       "\n",
       "    .dataframe thead th {\n",
       "        text-align: right;\n",
       "    }\n",
       "</style>\n",
       "<table border=\"1\" class=\"dataframe\">\n",
       "  <thead>\n",
       "    <tr style=\"text-align: right;\">\n",
       "      <th></th>\n",
       "      <th>miss_count</th>\n",
       "      <th>miss_%</th>\n",
       "    </tr>\n",
       "  </thead>\n",
       "  <tbody>\n",
       "    <tr>\n",
       "      <th>user_name</th>\n",
       "      <td>24131</td>\n",
       "      <td>23.355142</td>\n",
       "    </tr>\n",
       "    <tr>\n",
       "      <th>country</th>\n",
       "      <td>39</td>\n",
       "      <td>0.037746</td>\n",
       "    </tr>\n",
       "    <tr>\n",
       "      <th>review_title</th>\n",
       "      <td>0</td>\n",
       "      <td>0.000000</td>\n",
       "    </tr>\n",
       "    <tr>\n",
       "      <th>review_description</th>\n",
       "      <td>0</td>\n",
       "      <td>0.000000</td>\n",
       "    </tr>\n",
       "    <tr>\n",
       "      <th>designation</th>\n",
       "      <td>29636</td>\n",
       "      <td>28.683146</td>\n",
       "    </tr>\n",
       "    <tr>\n",
       "      <th>points</th>\n",
       "      <td>0</td>\n",
       "      <td>0.000000</td>\n",
       "    </tr>\n",
       "    <tr>\n",
       "      <th>price</th>\n",
       "      <td>6963</td>\n",
       "      <td>6.739126</td>\n",
       "    </tr>\n",
       "    <tr>\n",
       "      <th>province</th>\n",
       "      <td>39</td>\n",
       "      <td>0.037746</td>\n",
       "    </tr>\n",
       "    <tr>\n",
       "      <th>region_1</th>\n",
       "      <td>16068</td>\n",
       "      <td>15.551383</td>\n",
       "    </tr>\n",
       "    <tr>\n",
       "      <th>region_2</th>\n",
       "      <td>58459</td>\n",
       "      <td>56.579431</td>\n",
       "    </tr>\n",
       "    <tr>\n",
       "      <th>winery</th>\n",
       "      <td>0</td>\n",
       "      <td>0.000000</td>\n",
       "    </tr>\n",
       "    <tr>\n",
       "      <th>variety</th>\n",
       "      <td>0</td>\n",
       "      <td>0.000000</td>\n",
       "    </tr>\n",
       "  </tbody>\n",
       "</table>\n",
       "</div>"
      ],
      "text/plain": [
       "                    miss_count     miss_%\n",
       "user_name                24131  23.355142\n",
       "country                     39   0.037746\n",
       "review_title                 0   0.000000\n",
       "review_description           0   0.000000\n",
       "designation              29636  28.683146\n",
       "points                       0   0.000000\n",
       "price                     6963   6.739126\n",
       "province                    39   0.037746\n",
       "region_1                 16068  15.551383\n",
       "region_2                 58459  56.579431\n",
       "winery                       0   0.000000\n",
       "variety                      0   0.000000"
      ]
     },
     "execution_count": 391,
     "metadata": {},
     "output_type": "execute_result"
    }
   ],
   "source": [
    "#Looking For NAs\n",
    "miss = pd.DataFrame(full.isnull().sum())\n",
    "miss = miss.rename(columns={0:\"miss_count\"})\n",
    "miss[\"miss_%\"] = (miss.miss_count/len(full.iloc[:,0]))*100\n",
    "miss"
   ]
  },
  {
   "cell_type": "markdown",
   "metadata": {},
   "source": [
    "* We can see that the numerical column has 6% values missing."
   ]
  },
  {
   "cell_type": "code",
   "execution_count": 392,
   "metadata": {},
   "outputs": [],
   "source": [
    "#the funtion performs all the important preprocessing steps \n",
    "def preprocess(df):\n",
    "    #combinig all text columns\n",
    "    df['all_text']= df[\"review_title\"].astype(str) +\" \"+ df[\"review_description\"].astype(str) +\" \"+ df[\"designation\"].astype(str) +\" \"+ df[\"province\"].astype(str)+\" \"+ df[\"region_1\"].astype(str) +\" \"+ df[\"region_2\"].astype(str) +\" \"+ df[\"winery\"].astype(str)\n",
    "    \n",
    "    #tokenizer to remove unwanted elements from out data like symbols and numbers\n",
    "    token = RegexpTokenizer(r'[a-zA-Z]+')\n",
    "    \n",
    "    # converting Countvector from the text\n",
    "    cv = CountVectorizer(lowercase=True,stop_words='english',min_df=400,ngram_range = (1,1),tokenizer = token.tokenize)\n",
    "    text_counts= cv.fit_transform(df['all_text'])\n",
    "    \n",
    "    #Imputing NAs in the price colums\n",
    "    df['price'] = df['price'].fillna(df['price'].mean())\n",
    "    df['points'] = df['points'].fillna(df['points'].mean())\n",
    "    \n",
    "    # Scaling Numerical variables \n",
    "    scaler = preprocessing.MinMaxScaler(feature_range=(0, 1))\n",
    "    \n",
    "    # converting our data frame into matrix\n",
    "    df1 = df[[\"price\",\"points\"]].astype(np.float)\n",
    "    df1 =np.nan_to_num(df1)\n",
    "    \n",
    "    # applying scaler on our data and coverting i into a data frame\n",
    "    df_minmax = pd.DataFrame((scaler.fit_transform(df1)))\n",
    "    df_minmax.columns = [\"price\",\"points\"]\n",
    "    \n",
    "    #Adding our Price and points Variables in the count vector\n",
    "    prices = df_minmax.price.values[:, None]\n",
    "    X_train_dtm = hstack((text_counts, prices))\n",
    "    points = df_minmax.points.values[:, None]\n",
    "    X_train_dtm = hstack((X_train_dtm, points))\n",
    "    return X_train_dtm  "
   ]
  },
  {
   "cell_type": "code",
   "execution_count": 393,
   "metadata": {},
   "outputs": [],
   "source": [
    "#pre processing  full dataset\n",
    "fulvec = preprocess(full)"
   ]
  },
  {
   "cell_type": "code",
   "execution_count": 394,
   "metadata": {},
   "outputs": [
    {
     "data": {
      "text/plain": [
       "(103322, 1100)"
      ]
     },
     "execution_count": 394,
     "metadata": {},
     "output_type": "execute_result"
    }
   ],
   "source": [
    "fulvec.shape"
   ]
  },
  {
   "cell_type": "code",
   "execution_count": 395,
   "metadata": {},
   "outputs": [],
   "source": [
    "# converting into csr format in order to slice the sparse matrix\n",
    "a =fulvec.tocsr()"
   ]
  },
  {
   "cell_type": "code",
   "execution_count": 396,
   "metadata": {},
   "outputs": [],
   "source": [
    "#getting index in order to split data into train and test\n",
    "idxtest=full[full.variety==\"unknown\"].index\n",
    "idxtrai=full[full.variety!=\"unknown\"].index"
   ]
  },
  {
   "cell_type": "code",
   "execution_count": 397,
   "metadata": {},
   "outputs": [],
   "source": [
    "#converting Indexes into arrays\n",
    "idxtest = np.array(idxtest)\n",
    "idxtrai= np.array(idxtrai)"
   ]
  },
  {
   "cell_type": "code",
   "execution_count": 398,
   "metadata": {},
   "outputs": [],
   "source": [
    "# Slicing the indexes and reconverting into coo format.\n",
    "test = a[idxtest,:]\n",
    "test = test.tocoo()\n",
    "train = a[idxtrai,:]\n",
    "train = train.tocoo()"
   ]
  },
  {
   "cell_type": "code",
   "execution_count": 399,
   "metadata": {},
   "outputs": [],
   "source": [
    "# getting the values y variable for traning.\n",
    "train_y = full.variety[idxtrai]"
   ]
  },
  {
   "cell_type": "code",
   "execution_count": 400,
   "metadata": {
    "scrolled": true
   },
   "outputs": [
    {
     "data": {
      "text/plain": [
       "0                        Chardonnay\n",
       "1                         Red Blend\n",
       "2                          Nebbiolo\n",
       "3        Bordeaux-style White Blend\n",
       "4                            Malbec\n",
       "                    ...            \n",
       "82652                   Tempranillo\n",
       "82653            Cabernet Sauvignon\n",
       "82654                         Gamay\n",
       "82655      Bordeaux-style Red Blend\n",
       "82656            Cabernet Sauvignon\n",
       "Name: variety, Length: 82657, dtype: object"
      ]
     },
     "execution_count": 400,
     "metadata": {},
     "output_type": "execute_result"
    }
   ],
   "source": [
    "train_y"
   ]
  },
  {
   "cell_type": "markdown",
   "metadata": {},
   "source": [
    "## Model Selection.\n",
    "we will apply a Some of models and Select the one with better metrics"
   ]
  },
  {
   "cell_type": "code",
   "execution_count": 401,
   "metadata": {},
   "outputs": [],
   "source": [
    "#splitting our training data into train Test sets. \n",
    "from sklearn.model_selection import train_test_split\n",
    "X_train, X_test, y_train, y_test = train_test_split(train, train_y, test_size=0.5, random_state=1)"
   ]
  },
  {
   "cell_type": "markdown",
   "metadata": {},
   "source": [
    "### Multinomial Naive Bayes"
   ]
  },
  {
   "cell_type": "code",
   "execution_count": 402,
   "metadata": {},
   "outputs": [
    {
     "name": "stdout",
     "output_type": "stream",
     "text": [
      "MultinomialNB Accuracy: 0.7894214716058942\n",
      "MultinomialNB F1_score: 0.7894214716058943\n"
     ]
    }
   ],
   "source": [
    "from sklearn.naive_bayes import MultinomialNB\n",
    "#Import scikit-learn metrics module for accuracy calculation\n",
    "from sklearn import metrics\n",
    "# Model Generation Using Multinomial Naive Bayes\n",
    "clf = MultinomialNB().fit(X_train, y_train)\n",
    "predicted= clf.predict(X_test)\n",
    "print(\"MultinomialNB Accuracy:\",metrics.accuracy_score(y_test, predicted))\n",
    "print(\"MultinomialNB F1_score:\",metrics.f1_score(y_test, predicted,average='micro'))"
   ]
  },
  {
   "cell_type": "code",
   "execution_count": 403,
   "metadata": {},
   "outputs": [
    {
     "name": "stdout",
     "output_type": "stream",
     "text": [
      "MultinomialNB\n",
      "                            precision    recall  f1-score   support\n",
      "\n",
      "  Bordeaux-style Red Blend       0.91      0.67      0.78      2727\n",
      "Bordeaux-style White Blend       0.62      0.95      0.75       408\n",
      "            Cabernet Franc       0.47      0.50      0.49       551\n",
      "        Cabernet Sauvignon       0.77      0.85      0.81      3837\n",
      "           Champagne Blend       0.68      0.89      0.77       550\n",
      "                Chardonnay       0.96      0.79      0.87      4600\n",
      "                     Gamay       0.34      0.97      0.51       409\n",
      "            Gewürztraminer       0.87      0.95      0.91       410\n",
      "          Grüner Veltliner       0.81      0.97      0.88       536\n",
      "                    Malbec       0.61      0.77      0.69      1056\n",
      "                    Merlot       0.68      0.65      0.66      1207\n",
      "                  Nebbiolo       0.95      0.96      0.96      1105\n",
      "              Pinot Grigio       0.76      0.93      0.84       429\n",
      "                Pinot Gris       0.68      0.92      0.78       555\n",
      "                Pinot Noir       0.96      0.84      0.90      5394\n",
      "            Portuguese Red       0.90      0.99      0.94      1035\n",
      "          Portuguese White       0.84      0.98      0.91       437\n",
      "                 Red Blend       0.70      0.46      0.56      3580\n",
      "     Rhône-style Red Blend       0.66      0.80      0.72       598\n",
      "                  Riesling       0.93      0.86      0.89      2061\n",
      "                      Rosé       0.79      0.74      0.76      1427\n",
      "                Sangiovese       0.62      0.80      0.70      1102\n",
      "           Sauvignon Blanc       0.93      0.89      0.91      2023\n",
      "           Sparkling Blend       0.76      0.89      0.82       847\n",
      "                     Syrah       0.73      0.72      0.72      1672\n",
      "               Tempranillo       0.60      0.82      0.69       694\n",
      "               White Blend       0.69      0.69      0.69      1005\n",
      "                 Zinfandel       0.63      0.95      0.76      1074\n",
      "\n",
      "                  accuracy                           0.79     41329\n",
      "                 macro avg       0.75      0.83      0.77     41329\n",
      "              weighted avg       0.81      0.79      0.79     41329\n",
      "\n"
     ]
    }
   ],
   "source": [
    "print(\"MultinomialNB\")\n",
    "print(metrics.classification_report(y_test, predicted))"
   ]
  },
  {
   "cell_type": "markdown",
   "metadata": {},
   "source": [
    "### Decision Tree Classifier"
   ]
  },
  {
   "cell_type": "code",
   "execution_count": 404,
   "metadata": {},
   "outputs": [],
   "source": [
    "from sklearn import tree\n",
    "from sklearn.metrics import accuracy_score\n",
    "import numpy as np"
   ]
  },
  {
   "cell_type": "code",
   "execution_count": 405,
   "metadata": {},
   "outputs": [
    {
     "name": "stdout",
     "output_type": "stream",
     "text": [
      "dTree Accuracy: 0.9322267657093082\n",
      "dTree F1_score: 0.926167512851051\n",
      "Wall time: 6.72 s\n"
     ]
    }
   ],
   "source": [
    "%%time\n",
    "#Applying DEcision Tree\n",
    "clf=tree.DecisionTreeClassifier(criterion=\"gini\").fit(X_train, y_train) # for cart criterian =\"gini\"entropy\n",
    "predicted= clf.predict(X_test)\n",
    "print(\"dTree Accuracy:\",metrics.accuracy_score(y_test, predicted))\n",
    "print(\"dTree F1_score:\",metrics.f1_score(y_test, predicted,average='macro'))"
   ]
  },
  {
   "cell_type": "code",
   "execution_count": 406,
   "metadata": {},
   "outputs": [
    {
     "name": "stdout",
     "output_type": "stream",
     "text": [
      "Decision Tree\n",
      "                            precision    recall  f1-score   support\n",
      "\n",
      "  Bordeaux-style Red Blend       0.86      0.87      0.86      2727\n",
      "Bordeaux-style White Blend       0.82      0.81      0.82       408\n",
      "            Cabernet Franc       0.92      0.91      0.91       551\n",
      "        Cabernet Sauvignon       0.97      0.97      0.97      3837\n",
      "           Champagne Blend       0.93      0.91      0.92       550\n",
      "                Chardonnay       0.98      0.98      0.98      4600\n",
      "                     Gamay       0.98      0.96      0.97       409\n",
      "            Gewürztraminer       0.95      0.95      0.95       410\n",
      "          Grüner Veltliner       0.99      1.00      1.00       536\n",
      "                    Malbec       0.96      0.97      0.97      1056\n",
      "                    Merlot       0.92      0.94      0.93      1207\n",
      "                  Nebbiolo       0.98      0.96      0.97      1105\n",
      "              Pinot Grigio       0.96      0.97      0.96       429\n",
      "                Pinot Gris       0.99      0.97      0.98       555\n",
      "                Pinot Noir       0.98      0.98      0.98      5394\n",
      "            Portuguese Red       0.95      0.93      0.94      1035\n",
      "          Portuguese White       0.91      0.91      0.91       437\n",
      "                 Red Blend       0.79      0.79      0.79      3580\n",
      "     Rhône-style Red Blend       0.76      0.77      0.77       598\n",
      "                  Riesling       0.99      1.00      0.99      2061\n",
      "                      Rosé       0.92      0.94      0.93      1427\n",
      "                Sangiovese       0.87      0.84      0.85      1102\n",
      "           Sauvignon Blanc       0.96      0.97      0.97      2023\n",
      "           Sparkling Blend       0.94      0.93      0.93       847\n",
      "                     Syrah       0.94      0.95      0.95      1672\n",
      "               Tempranillo       0.93      0.92      0.93       694\n",
      "               White Blend       0.86      0.83      0.84      1005\n",
      "                 Zinfandel       0.98      0.96      0.97      1074\n",
      "\n",
      "                  accuracy                           0.93     41329\n",
      "                 macro avg       0.93      0.92      0.93     41329\n",
      "              weighted avg       0.93      0.93      0.93     41329\n",
      "\n"
     ]
    }
   ],
   "source": [
    "print(\"Decision Tree\")\n",
    "print(metrics.classification_report(y_test, predicted))"
   ]
  },
  {
   "cell_type": "markdown",
   "metadata": {},
   "source": [
    "### Random Forest Classifier "
   ]
  },
  {
   "cell_type": "code",
   "execution_count": 310,
   "metadata": {},
   "outputs": [
    {
     "name": "stdout",
     "output_type": "stream",
     "text": [
      "Rforest Accuracy: 0.9303878632437271\n",
      "Rforest F1_score: 0.9247663532996585\n",
      "Wall time: 44.7 s\n"
     ]
    }
   ],
   "source": [
    "# Applying Random Forest Classifier\n",
    "from sklearn.ensemble import RandomForestClassifier\n",
    "rf_model = RandomForestClassifier(n_estimators=50).fit(X_train, y_train)\n",
    "rf_predict = rf_model.predict(X_test)\n",
    "print(\"Rforest Accuracy:\",metrics.accuracy_score(y_test, predicted))\n",
    "print(\"Rforest F1_score:\",metrics.f1_score(y_test, predicted,average='macro'))"
   ]
  },
  {
   "cell_type": "code",
   "execution_count": 313,
   "metadata": {},
   "outputs": [
    {
     "name": "stdout",
     "output_type": "stream",
     "text": [
      "Random Forest\n",
      "                            precision    recall  f1-score   support\n",
      "\n",
      "  Bordeaux-style Red Blend       0.86      0.86      0.86      2727\n",
      "Bordeaux-style White Blend       0.81      0.81      0.81       408\n",
      "            Cabernet Franc       0.92      0.89      0.90       551\n",
      "        Cabernet Sauvignon       0.96      0.97      0.97      3837\n",
      "           Champagne Blend       0.92      0.89      0.91       550\n",
      "                Chardonnay       0.97      0.98      0.98      4600\n",
      "                     Gamay       0.98      0.95      0.97       409\n",
      "            Gewürztraminer       0.96      0.95      0.95       410\n",
      "          Grüner Veltliner       0.99      1.00      1.00       536\n",
      "                    Malbec       0.97      0.97      0.97      1056\n",
      "                    Merlot       0.93      0.94      0.93      1207\n",
      "                  Nebbiolo       0.97      0.97      0.97      1105\n",
      "              Pinot Grigio       0.95      0.97      0.96       429\n",
      "                Pinot Gris       0.98      0.97      0.98       555\n",
      "                Pinot Noir       0.98      0.98      0.98      5394\n",
      "            Portuguese Red       0.95      0.93      0.94      1035\n",
      "          Portuguese White       0.89      0.91      0.90       437\n",
      "                 Red Blend       0.79      0.79      0.79      3580\n",
      "     Rhône-style Red Blend       0.78      0.78      0.78       598\n",
      "                  Riesling       0.99      0.99      0.99      2061\n",
      "                      Rosé       0.92      0.93      0.93      1427\n",
      "                Sangiovese       0.86      0.85      0.85      1102\n",
      "           Sauvignon Blanc       0.97      0.97      0.97      2023\n",
      "           Sparkling Blend       0.93      0.94      0.93       847\n",
      "                     Syrah       0.95      0.94      0.94      1672\n",
      "               Tempranillo       0.94      0.92      0.93       694\n",
      "               White Blend       0.87      0.83      0.85      1005\n",
      "                 Zinfandel       0.98      0.97      0.97      1074\n",
      "\n",
      "                  accuracy                           0.93     41329\n",
      "                 macro avg       0.93      0.92      0.93     41329\n",
      "              weighted avg       0.93      0.93      0.93     41329\n",
      "\n"
     ]
    }
   ],
   "source": [
    "print(\"Random Forest\")\n",
    "print(metrics.classification_report(y_test, predicted))"
   ]
  },
  {
   "cell_type": "markdown",
   "metadata": {},
   "source": [
    "#### Note:\n",
    "* We can see between Multinomial Naive Bayes, Random Forest and Decision tree. both Random Forest and Decision tree have equal metrics so we will move forward with our prediction Using Decision Tree."
   ]
  },
  {
   "cell_type": "markdown",
   "metadata": {},
   "source": [
    "## Optimizing Decision Tree\n",
    "1. Changing Atribute selection measure and max_depth\n",
    "2. ploting Accuracy at each combination."
   ]
  },
  {
   "cell_type": "code",
   "execution_count": 314,
   "metadata": {},
   "outputs": [
    {
     "name": "stderr",
     "output_type": "stream",
     "text": [
      "100%|██████████████████████████████████████████████████████████████████████████████████| 29/29 [02:53<00:00,  6.00s/it]"
     ]
    },
    {
     "name": "stdout",
     "output_type": "stream",
     "text": [
      "Wall time: 2min 54s\n"
     ]
    },
    {
     "name": "stderr",
     "output_type": "stream",
     "text": [
      "\n"
     ]
    }
   ],
   "source": [
    "%%time\n",
    "max_depth = []\n",
    "acc_gini = []\n",
    "acc_entropy = []\n",
    "for i in tqdm(range(1,30)):\n",
    " dtree = tree.DecisionTreeClassifier(criterion=\"gini\", max_depth=i)\n",
    " dtree.fit(X_train, y_train)\n",
    " pred = dtree.predict(X_test)\n",
    " acc_gini.append(accuracy_score(y_test, pred))\n",
    " ####\n",
    " dtree = tree.DecisionTreeClassifier(criterion=\"entropy\", max_depth=i)\n",
    " dtree.fit(X_train, y_train)\n",
    " pred = dtree.predict(X_test)\n",
    " acc_entropy.append(accuracy_score(y_test, pred))\n",
    " ####\n",
    " max_depth.append(i)\n",
    "d = pd.DataFrame({\"acc_gini\":pd.Series(acc_gini), \n",
    " \"acc_entropy\":pd.Series(acc_entropy),\n",
    " \"max_depth\":pd.Series(max_depth)})"
   ]
  },
  {
   "cell_type": "code",
   "execution_count": 315,
   "metadata": {},
   "outputs": [
    {
     "data": {
      "text/plain": [
       "<matplotlib.legend.Legend at 0x160b6750cc0>"
      ]
     },
     "execution_count": 315,
     "metadata": {},
     "output_type": "execute_result"
    },
    {
     "data": {
      "image/png": "[encoded data removed]",
      "text/plain": [
       "<Figure size 432x288 with 1 Axes>"
      ]
     },
     "metadata": {
      "needs_background": "light"
     },
     "output_type": "display_data"
    }
   ],
   "source": [
    "# visualizing changes in parameters\n",
    "import matplotlib.pyplot as plt\n",
    "plt.plot(\"max_depth\",\"acc_gini\", data=d, label=\"gini\")\n",
    "plt.plot(\"max_depth\",\"acc_entropy\", data=d, label=\"entropy\")\n",
    "plt.xlabel(\"max_depth\")\n",
    "plt.ylabel(\"accuracy\")\n",
    "plt.legend()"
   ]
  },
  {
   "cell_type": "markdown",
   "metadata": {},
   "source": [
    "* From the above we can see that entropy criterion has better accuracy but both curves intersect when the max_depth increases so we will choose criterion = entropy because of shorter training time and max depth = 27"
   ]
  },
  {
   "cell_type": "markdown",
   "metadata": {},
   "source": [
    "### Building Final Model"
   ]
  },
  {
   "cell_type": "code",
   "execution_count": 318,
   "metadata": {},
   "outputs": [
    {
     "name": "stdout",
     "output_type": "stream",
     "text": [
      "Wall time: 13.6 s\n"
     ]
    }
   ],
   "source": [
    "%%time\n",
    "#final model for prediction\n",
    "clf=tree.DecisionTreeClassifier(criterion=\"entropy\",max_depth=27).fit(train,train_y) # for cart criterian = entropy\n",
    "predicted= clf.predict(test)"
   ]
  },
  {
   "cell_type": "code",
   "execution_count": 407,
   "metadata": {},
   "outputs": [],
   "source": [
    "## predicting With Final Model"
   ]
  },
  {
   "cell_type": "code",
   "execution_count": 319,
   "metadata": {},
   "outputs": [],
   "source": [
    "# Adding Predicted Variety colum in text data.\n",
    "data2[\"variety\"] = predicted"
   ]
  },
  {
   "cell_type": "code",
   "execution_count": 320,
   "metadata": {},
   "outputs": [
    {
     "data": {
      "text/html": [
       "<div>\n",
       "<style scoped>\n",
       "    .dataframe tbody tr th:only-of-type {\n",
       "        vertical-align: middle;\n",
       "    }\n",
       "\n",
       "    .dataframe tbody tr th {\n",
       "        vertical-align: top;\n",
       "    }\n",
       "\n",
       "    .dataframe thead th {\n",
       "        text-align: right;\n",
       "    }\n",
       "</style>\n",
       "<table border=\"1\" class=\"dataframe\">\n",
       "  <thead>\n",
       "    <tr style=\"text-align: right;\">\n",
       "      <th></th>\n",
       "      <th>user_name</th>\n",
       "      <th>country</th>\n",
       "      <th>review_title</th>\n",
       "      <th>review_description</th>\n",
       "      <th>designation</th>\n",
       "      <th>points</th>\n",
       "      <th>price</th>\n",
       "      <th>province</th>\n",
       "      <th>region_1</th>\n",
       "      <th>region_2</th>\n",
       "      <th>winery</th>\n",
       "      <th>variety</th>\n",
       "    </tr>\n",
       "  </thead>\n",
       "  <tbody>\n",
       "    <tr>\n",
       "      <th>0</th>\n",
       "      <td>@paulgwine</td>\n",
       "      <td>US</td>\n",
       "      <td>Boedecker Cellars 2011 Athena Pinot Noir (Will...</td>\n",
       "      <td>Nicely differentiated from the companion Stewa...</td>\n",
       "      <td>Athena</td>\n",
       "      <td>88</td>\n",
       "      <td>35.0</td>\n",
       "      <td>Oregon</td>\n",
       "      <td>Willamette Valley</td>\n",
       "      <td>Willamette Valley</td>\n",
       "      <td>Boedecker Cellars</td>\n",
       "      <td>Pinot Noir</td>\n",
       "    </tr>\n",
       "    <tr>\n",
       "      <th>1</th>\n",
       "      <td>@wineschach</td>\n",
       "      <td>Argentina</td>\n",
       "      <td>Mendoza Vineyards 2012 Gran Reserva by Richard...</td>\n",
       "      <td>Charred, smoky, herbal aromas of blackberry tr...</td>\n",
       "      <td>Gran Reserva by Richard Bonvin</td>\n",
       "      <td>90</td>\n",
       "      <td>60.0</td>\n",
       "      <td>Mendoza Province</td>\n",
       "      <td>Mendoza</td>\n",
       "      <td>NaN</td>\n",
       "      <td>Mendoza Vineyards</td>\n",
       "      <td>Malbec</td>\n",
       "    </tr>\n",
       "    <tr>\n",
       "      <th>2</th>\n",
       "      <td>@vboone</td>\n",
       "      <td>US</td>\n",
       "      <td>Prime 2013 Chardonnay (Coombsville)</td>\n",
       "      <td>Slightly sour and funky in earth, this is a re...</td>\n",
       "      <td>NaN</td>\n",
       "      <td>87</td>\n",
       "      <td>38.0</td>\n",
       "      <td>California</td>\n",
       "      <td>Coombsville</td>\n",
       "      <td>Napa</td>\n",
       "      <td>Prime</td>\n",
       "      <td>Chardonnay</td>\n",
       "    </tr>\n",
       "    <tr>\n",
       "      <th>3</th>\n",
       "      <td>@wineschach</td>\n",
       "      <td>Argentina</td>\n",
       "      <td>Bodega Cuarto Dominio 2012 Chento Vineyard Sel...</td>\n",
       "      <td>This concentrated, midnight-black Malbec deliv...</td>\n",
       "      <td>Chento Vineyard Selection</td>\n",
       "      <td>91</td>\n",
       "      <td>20.0</td>\n",
       "      <td>Mendoza Province</td>\n",
       "      <td>Mendoza</td>\n",
       "      <td>NaN</td>\n",
       "      <td>Bodega Cuarto Dominio</td>\n",
       "      <td>Malbec</td>\n",
       "    </tr>\n",
       "    <tr>\n",
       "      <th>4</th>\n",
       "      <td>@kerinokeefe</td>\n",
       "      <td>Italy</td>\n",
       "      <td>SassodiSole 2012  Brunello di Montalcino</td>\n",
       "      <td>Earthy aromas suggesting grilled porcini, leat...</td>\n",
       "      <td>NaN</td>\n",
       "      <td>90</td>\n",
       "      <td>49.0</td>\n",
       "      <td>Tuscany</td>\n",
       "      <td>Brunello di Montalcino</td>\n",
       "      <td>NaN</td>\n",
       "      <td>SassodiSole</td>\n",
       "      <td>Sangiovese</td>\n",
       "    </tr>\n",
       "  </tbody>\n",
       "</table>\n",
       "</div>"
      ],
      "text/plain": [
       "      user_name    country                                       review_title  \\\n",
       "0   @paulgwine          US  Boedecker Cellars 2011 Athena Pinot Noir (Will...   \n",
       "1   @wineschach  Argentina  Mendoza Vineyards 2012 Gran Reserva by Richard...   \n",
       "2       @vboone         US                Prime 2013 Chardonnay (Coombsville)   \n",
       "3   @wineschach  Argentina  Bodega Cuarto Dominio 2012 Chento Vineyard Sel...   \n",
       "4  @kerinokeefe      Italy           SassodiSole 2012  Brunello di Montalcino   \n",
       "\n",
       "                                  review_description  \\\n",
       "0  Nicely differentiated from the companion Stewa...   \n",
       "1  Charred, smoky, herbal aromas of blackberry tr...   \n",
       "2  Slightly sour and funky in earth, this is a re...   \n",
       "3  This concentrated, midnight-black Malbec deliv...   \n",
       "4  Earthy aromas suggesting grilled porcini, leat...   \n",
       "\n",
       "                      designation  points  price          province  \\\n",
       "0                          Athena      88   35.0            Oregon   \n",
       "1  Gran Reserva by Richard Bonvin      90   60.0  Mendoza Province   \n",
       "2                             NaN      87   38.0        California   \n",
       "3       Chento Vineyard Selection      91   20.0  Mendoza Province   \n",
       "4                             NaN      90   49.0           Tuscany   \n",
       "\n",
       "                 region_1           region_2                 winery  \\\n",
       "0       Willamette Valley  Willamette Valley      Boedecker Cellars   \n",
       "1                 Mendoza                NaN      Mendoza Vineyards   \n",
       "2             Coombsville               Napa                  Prime   \n",
       "3                 Mendoza                NaN  Bodega Cuarto Dominio   \n",
       "4  Brunello di Montalcino                NaN            SassodiSole   \n",
       "\n",
       "      variety  \n",
       "0  Pinot Noir  \n",
       "1      Malbec  \n",
       "2  Chardonnay  \n",
       "3      Malbec  \n",
       "4  Sangiovese  "
      ]
     },
     "execution_count": 320,
     "metadata": {},
     "output_type": "execute_result"
    }
   ],
   "source": [
    "data2.head()"
   ]
  },
  {
   "cell_type": "code",
   "execution_count": 323,
   "metadata": {},
   "outputs": [],
   "source": [
    "data2.to_csv(\"predicted.csv\",index=False)"
   ]
  }
 ],
 "metadata": {
  "kernelspec": {
   "display_name": "Python 3",
   "language": "python",
   "name": "python3"
  },
  "language_info": {
   "codemirror_mode": {
    "name": "ipython",
    "version": 3
   },
   "file_extension": ".py",
   "mimetype": "text/x-python",
   "name": "python",
   "nbconvert_exporter": "python",
   "pygments_lexer": "ipython3",
   "version": "3.7.1"
  }
 },
 "nbformat": 4,
 "nbformat_minor": 4
}
